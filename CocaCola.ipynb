{
 "cells": [
  {
   "cell_type": "code",
   "execution_count": 267,
   "id": "1f67e8f8",
   "metadata": {},
   "outputs": [],
   "source": [
    "import pandas as pd\n",
    "import matplotlib.pyplot as plt    #importing libraries"
   ]
  },
  {
   "cell_type": "code",
   "execution_count": 268,
   "id": "34d4e4b7",
   "metadata": {},
   "outputs": [],
   "source": [
    "df = pd.read_excel('CocaCola_Sales_Rawdata.xlsx')"
   ]
  },
  {
   "cell_type": "code",
   "execution_count": 269,
   "id": "0a76929b",
   "metadata": {},
   "outputs": [
    {
     "data": {
      "text/html": [
       "<div>\n",
       "<style scoped>\n",
       "    .dataframe tbody tr th:only-of-type {\n",
       "        vertical-align: middle;\n",
       "    }\n",
       "\n",
       "    .dataframe tbody tr th {\n",
       "        vertical-align: top;\n",
       "    }\n",
       "\n",
       "    .dataframe thead th {\n",
       "        text-align: right;\n",
       "    }\n",
       "</style>\n",
       "<table border=\"1\" class=\"dataframe\">\n",
       "  <thead>\n",
       "    <tr style=\"text-align: right;\">\n",
       "      <th></th>\n",
       "      <th>Quarter</th>\n",
       "      <th>Sales</th>\n",
       "    </tr>\n",
       "  </thead>\n",
       "  <tbody>\n",
       "    <tr>\n",
       "      <th>0</th>\n",
       "      <td>Q1_86</td>\n",
       "      <td>1734.827000</td>\n",
       "    </tr>\n",
       "    <tr>\n",
       "      <th>1</th>\n",
       "      <td>Q2_86</td>\n",
       "      <td>2244.960999</td>\n",
       "    </tr>\n",
       "    <tr>\n",
       "      <th>2</th>\n",
       "      <td>Q3_86</td>\n",
       "      <td>2533.804993</td>\n",
       "    </tr>\n",
       "    <tr>\n",
       "      <th>3</th>\n",
       "      <td>Q4_86</td>\n",
       "      <td>2154.962997</td>\n",
       "    </tr>\n",
       "    <tr>\n",
       "      <th>4</th>\n",
       "      <td>Q1_87</td>\n",
       "      <td>1547.818996</td>\n",
       "    </tr>\n",
       "  </tbody>\n",
       "</table>\n",
       "</div>"
      ],
      "text/plain": [
       "  Quarter        Sales\n",
       "0   Q1_86  1734.827000\n",
       "1   Q2_86  2244.960999\n",
       "2   Q3_86  2533.804993\n",
       "3   Q4_86  2154.962997\n",
       "4   Q1_87  1547.818996"
      ]
     },
     "execution_count": 269,
     "metadata": {},
     "output_type": "execute_result"
    }
   ],
   "source": [
    "df.head()"
   ]
  },
  {
   "cell_type": "code",
   "execution_count": 270,
   "id": "ba11d6b8",
   "metadata": {},
   "outputs": [
    {
     "data": {
      "text/plain": [
       "(42, 2)"
      ]
     },
     "execution_count": 270,
     "metadata": {},
     "output_type": "execute_result"
    }
   ],
   "source": [
    "df.shape"
   ]
  },
  {
   "cell_type": "code",
   "execution_count": 271,
   "id": "5ac5112f",
   "metadata": {},
   "outputs": [],
   "source": [
    "df.set_index('Quarter',inplace=True)   #setting index"
   ]
  },
  {
   "cell_type": "code",
   "execution_count": 272,
   "id": "15de73f6",
   "metadata": {},
   "outputs": [
    {
     "data": {
      "text/html": [
       "<div>\n",
       "<style scoped>\n",
       "    .dataframe tbody tr th:only-of-type {\n",
       "        vertical-align: middle;\n",
       "    }\n",
       "\n",
       "    .dataframe tbody tr th {\n",
       "        vertical-align: top;\n",
       "    }\n",
       "\n",
       "    .dataframe thead th {\n",
       "        text-align: right;\n",
       "    }\n",
       "</style>\n",
       "<table border=\"1\" class=\"dataframe\">\n",
       "  <thead>\n",
       "    <tr style=\"text-align: right;\">\n",
       "      <th></th>\n",
       "      <th>Sales</th>\n",
       "    </tr>\n",
       "    <tr>\n",
       "      <th>Quarter</th>\n",
       "      <th></th>\n",
       "    </tr>\n",
       "  </thead>\n",
       "  <tbody>\n",
       "    <tr>\n",
       "      <th>Q1_86</th>\n",
       "      <td>1734.827000</td>\n",
       "    </tr>\n",
       "    <tr>\n",
       "      <th>Q2_86</th>\n",
       "      <td>2244.960999</td>\n",
       "    </tr>\n",
       "    <tr>\n",
       "      <th>Q3_86</th>\n",
       "      <td>2533.804993</td>\n",
       "    </tr>\n",
       "    <tr>\n",
       "      <th>Q4_86</th>\n",
       "      <td>2154.962997</td>\n",
       "    </tr>\n",
       "    <tr>\n",
       "      <th>Q1_87</th>\n",
       "      <td>1547.818996</td>\n",
       "    </tr>\n",
       "    <tr>\n",
       "      <th>Q2_87</th>\n",
       "      <td>2104.411995</td>\n",
       "    </tr>\n",
       "    <tr>\n",
       "      <th>Q3_87</th>\n",
       "      <td>2014.362999</td>\n",
       "    </tr>\n",
       "    <tr>\n",
       "      <th>Q4_87</th>\n",
       "      <td>1991.746998</td>\n",
       "    </tr>\n",
       "    <tr>\n",
       "      <th>Q1_88</th>\n",
       "      <td>1869.049999</td>\n",
       "    </tr>\n",
       "    <tr>\n",
       "      <th>Q2_88</th>\n",
       "      <td>2313.631996</td>\n",
       "    </tr>\n",
       "    <tr>\n",
       "      <th>Q3_88</th>\n",
       "      <td>2128.320000</td>\n",
       "    </tr>\n",
       "    <tr>\n",
       "      <th>Q4_88</th>\n",
       "      <td>2026.828999</td>\n",
       "    </tr>\n",
       "    <tr>\n",
       "      <th>Q1_89</th>\n",
       "      <td>1910.603996</td>\n",
       "    </tr>\n",
       "    <tr>\n",
       "      <th>Q2_89</th>\n",
       "      <td>2331.164993</td>\n",
       "    </tr>\n",
       "    <tr>\n",
       "      <th>Q3_89</th>\n",
       "      <td>2206.549995</td>\n",
       "    </tr>\n",
       "    <tr>\n",
       "      <th>Q4_89</th>\n",
       "      <td>2173.967995</td>\n",
       "    </tr>\n",
       "    <tr>\n",
       "      <th>Q1_90</th>\n",
       "      <td>2148.278000</td>\n",
       "    </tr>\n",
       "    <tr>\n",
       "      <th>Q2_90</th>\n",
       "      <td>2739.307999</td>\n",
       "    </tr>\n",
       "    <tr>\n",
       "      <th>Q3_90</th>\n",
       "      <td>2792.753998</td>\n",
       "    </tr>\n",
       "    <tr>\n",
       "      <th>Q4_90</th>\n",
       "      <td>2556.009995</td>\n",
       "    </tr>\n",
       "    <tr>\n",
       "      <th>Q1_91</th>\n",
       "      <td>2480.973999</td>\n",
       "    </tr>\n",
       "    <tr>\n",
       "      <th>Q2_91</th>\n",
       "      <td>3039.522995</td>\n",
       "    </tr>\n",
       "    <tr>\n",
       "      <th>Q3_91</th>\n",
       "      <td>3172.115997</td>\n",
       "    </tr>\n",
       "    <tr>\n",
       "      <th>Q4_91</th>\n",
       "      <td>2879.000999</td>\n",
       "    </tr>\n",
       "    <tr>\n",
       "      <th>Q1_92</th>\n",
       "      <td>2772.000000</td>\n",
       "    </tr>\n",
       "    <tr>\n",
       "      <th>Q2_92</th>\n",
       "      <td>3550.000000</td>\n",
       "    </tr>\n",
       "    <tr>\n",
       "      <th>Q3_92</th>\n",
       "      <td>3508.000000</td>\n",
       "    </tr>\n",
       "    <tr>\n",
       "      <th>Q4_92</th>\n",
       "      <td>3243.859993</td>\n",
       "    </tr>\n",
       "    <tr>\n",
       "      <th>Q1_93</th>\n",
       "      <td>3056.000000</td>\n",
       "    </tr>\n",
       "    <tr>\n",
       "      <th>Q2_93</th>\n",
       "      <td>3899.000000</td>\n",
       "    </tr>\n",
       "    <tr>\n",
       "      <th>Q3_93</th>\n",
       "      <td>3629.000000</td>\n",
       "    </tr>\n",
       "    <tr>\n",
       "      <th>Q4_93</th>\n",
       "      <td>3373.000000</td>\n",
       "    </tr>\n",
       "    <tr>\n",
       "      <th>Q1_94</th>\n",
       "      <td>3352.000000</td>\n",
       "    </tr>\n",
       "    <tr>\n",
       "      <th>Q2_94</th>\n",
       "      <td>4342.000000</td>\n",
       "    </tr>\n",
       "    <tr>\n",
       "      <th>Q3_94</th>\n",
       "      <td>4461.000000</td>\n",
       "    </tr>\n",
       "    <tr>\n",
       "      <th>Q4_94</th>\n",
       "      <td>4017.000000</td>\n",
       "    </tr>\n",
       "    <tr>\n",
       "      <th>Q1_95</th>\n",
       "      <td>3854.000000</td>\n",
       "    </tr>\n",
       "    <tr>\n",
       "      <th>Q2_95</th>\n",
       "      <td>4936.000000</td>\n",
       "    </tr>\n",
       "    <tr>\n",
       "      <th>Q3_95</th>\n",
       "      <td>4895.000000</td>\n",
       "    </tr>\n",
       "    <tr>\n",
       "      <th>Q4_95</th>\n",
       "      <td>4333.000000</td>\n",
       "    </tr>\n",
       "    <tr>\n",
       "      <th>Q1_96</th>\n",
       "      <td>4194.000000</td>\n",
       "    </tr>\n",
       "    <tr>\n",
       "      <th>Q2_96</th>\n",
       "      <td>5253.000000</td>\n",
       "    </tr>\n",
       "  </tbody>\n",
       "</table>\n",
       "</div>"
      ],
      "text/plain": [
       "               Sales\n",
       "Quarter             \n",
       "Q1_86    1734.827000\n",
       "Q2_86    2244.960999\n",
       "Q3_86    2533.804993\n",
       "Q4_86    2154.962997\n",
       "Q1_87    1547.818996\n",
       "Q2_87    2104.411995\n",
       "Q3_87    2014.362999\n",
       "Q4_87    1991.746998\n",
       "Q1_88    1869.049999\n",
       "Q2_88    2313.631996\n",
       "Q3_88    2128.320000\n",
       "Q4_88    2026.828999\n",
       "Q1_89    1910.603996\n",
       "Q2_89    2331.164993\n",
       "Q3_89    2206.549995\n",
       "Q4_89    2173.967995\n",
       "Q1_90    2148.278000\n",
       "Q2_90    2739.307999\n",
       "Q3_90    2792.753998\n",
       "Q4_90    2556.009995\n",
       "Q1_91    2480.973999\n",
       "Q2_91    3039.522995\n",
       "Q3_91    3172.115997\n",
       "Q4_91    2879.000999\n",
       "Q1_92    2772.000000\n",
       "Q2_92    3550.000000\n",
       "Q3_92    3508.000000\n",
       "Q4_92    3243.859993\n",
       "Q1_93    3056.000000\n",
       "Q2_93    3899.000000\n",
       "Q3_93    3629.000000\n",
       "Q4_93    3373.000000\n",
       "Q1_94    3352.000000\n",
       "Q2_94    4342.000000\n",
       "Q3_94    4461.000000\n",
       "Q4_94    4017.000000\n",
       "Q1_95    3854.000000\n",
       "Q2_95    4936.000000\n",
       "Q3_95    4895.000000\n",
       "Q4_95    4333.000000\n",
       "Q1_96    4194.000000\n",
       "Q2_96    5253.000000"
      ]
     },
     "execution_count": 272,
     "metadata": {},
     "output_type": "execute_result"
    }
   ],
   "source": [
    "df"
   ]
  },
  {
   "cell_type": "code",
   "execution_count": 273,
   "id": "d1beaf8e",
   "metadata": {},
   "outputs": [
    {
     "data": {
      "text/html": [
       "<div>\n",
       "<style scoped>\n",
       "    .dataframe tbody tr th:only-of-type {\n",
       "        vertical-align: middle;\n",
       "    }\n",
       "\n",
       "    .dataframe tbody tr th {\n",
       "        vertical-align: top;\n",
       "    }\n",
       "\n",
       "    .dataframe thead th {\n",
       "        text-align: right;\n",
       "    }\n",
       "</style>\n",
       "<table border=\"1\" class=\"dataframe\">\n",
       "  <thead>\n",
       "    <tr style=\"text-align: right;\">\n",
       "      <th></th>\n",
       "      <th>Sales</th>\n",
       "    </tr>\n",
       "  </thead>\n",
       "  <tbody>\n",
       "    <tr>\n",
       "      <th>count</th>\n",
       "      <td>42.000000</td>\n",
       "    </tr>\n",
       "    <tr>\n",
       "      <th>mean</th>\n",
       "      <td>2994.353308</td>\n",
       "    </tr>\n",
       "    <tr>\n",
       "      <th>std</th>\n",
       "      <td>977.930896</td>\n",
       "    </tr>\n",
       "    <tr>\n",
       "      <th>min</th>\n",
       "      <td>1547.818996</td>\n",
       "    </tr>\n",
       "    <tr>\n",
       "      <th>25%</th>\n",
       "      <td>2159.714247</td>\n",
       "    </tr>\n",
       "    <tr>\n",
       "      <th>50%</th>\n",
       "      <td>2782.376999</td>\n",
       "    </tr>\n",
       "    <tr>\n",
       "      <th>75%</th>\n",
       "      <td>3609.250000</td>\n",
       "    </tr>\n",
       "    <tr>\n",
       "      <th>max</th>\n",
       "      <td>5253.000000</td>\n",
       "    </tr>\n",
       "  </tbody>\n",
       "</table>\n",
       "</div>"
      ],
      "text/plain": [
       "             Sales\n",
       "count    42.000000\n",
       "mean   2994.353308\n",
       "std     977.930896\n",
       "min    1547.818996\n",
       "25%    2159.714247\n",
       "50%    2782.376999\n",
       "75%    3609.250000\n",
       "max    5253.000000"
      ]
     },
     "execution_count": 273,
     "metadata": {},
     "output_type": "execute_result"
    }
   ],
   "source": [
    "df.describe()"
   ]
  },
  {
   "cell_type": "code",
   "execution_count": 274,
   "id": "a88ca4ee",
   "metadata": {},
   "outputs": [
    {
     "data": {
      "text/plain": [
       "<AxesSubplot:xlabel='Quarter'>"
      ]
     },
     "execution_count": 274,
     "metadata": {},
     "output_type": "execute_result"
    },
    {
     "data": {
      "image/png": "[encoded data removed]",
      "text/plain": [
       "<Figure size 432x288 with 1 Axes>"
      ]
     },
     "metadata": {
      "needs_background": "light"
     },
     "output_type": "display_data"
    }
   ],
   "source": [
    "df.plot()     #it is having a positive trend"
   ]
  },
  {
   "cell_type": "code",
   "execution_count": 275,
   "id": "780770ff",
   "metadata": {},
   "outputs": [],
   "source": [
    "df['Smoothen_data']=df['Sales'].rolling(window=5).mean()  #smoothening the data"
   ]
  },
  {
   "cell_type": "code",
   "execution_count": 276,
   "id": "6c6fc9bb",
   "metadata": {},
   "outputs": [
    {
     "data": {
      "text/plain": [
       "<AxesSubplot:xlabel='Quarter'>"
      ]
     },
     "execution_count": 276,
     "metadata": {},
     "output_type": "execute_result"
    },
    {
     "data": {
      "image/png": "[encoded data removed]",
      "text/plain": [
       "<Figure size 432x288 with 1 Axes>"
      ]
     },
     "metadata": {
      "needs_background": "light"
     },
     "output_type": "display_data"
    }
   ],
   "source": [
    "df.plot()"
   ]
  },
  {
   "cell_type": "code",
   "execution_count": 277,
   "id": "1d8a84ce",
   "metadata": {},
   "outputs": [],
   "source": [
    "df['Sales_diff'] = df['Sales'].diff(periods=4)    #shifting and differencing"
   ]
  },
  {
   "cell_type": "code",
   "execution_count": 278,
   "id": "fb15bad4",
   "metadata": {},
   "outputs": [
    {
     "data": {
      "text/html": [
       "<div>\n",
       "<style scoped>\n",
       "    .dataframe tbody tr th:only-of-type {\n",
       "        vertical-align: middle;\n",
       "    }\n",
       "\n",
       "    .dataframe tbody tr th {\n",
       "        vertical-align: top;\n",
       "    }\n",
       "\n",
       "    .dataframe thead th {\n",
       "        text-align: right;\n",
       "    }\n",
       "</style>\n",
       "<table border=\"1\" class=\"dataframe\">\n",
       "  <thead>\n",
       "    <tr style=\"text-align: right;\">\n",
       "      <th></th>\n",
       "      <th>Sales</th>\n",
       "      <th>Smoothen_data</th>\n",
       "      <th>Sales_diff</th>\n",
       "    </tr>\n",
       "    <tr>\n",
       "      <th>Quarter</th>\n",
       "      <th></th>\n",
       "      <th></th>\n",
       "      <th></th>\n",
       "    </tr>\n",
       "  </thead>\n",
       "  <tbody>\n",
       "    <tr>\n",
       "      <th>Q1_86</th>\n",
       "      <td>1734.827000</td>\n",
       "      <td>NaN</td>\n",
       "      <td>NaN</td>\n",
       "    </tr>\n",
       "    <tr>\n",
       "      <th>Q2_86</th>\n",
       "      <td>2244.960999</td>\n",
       "      <td>NaN</td>\n",
       "      <td>NaN</td>\n",
       "    </tr>\n",
       "    <tr>\n",
       "      <th>Q3_86</th>\n",
       "      <td>2533.804993</td>\n",
       "      <td>NaN</td>\n",
       "      <td>NaN</td>\n",
       "    </tr>\n",
       "    <tr>\n",
       "      <th>Q4_86</th>\n",
       "      <td>2154.962997</td>\n",
       "      <td>NaN</td>\n",
       "      <td>NaN</td>\n",
       "    </tr>\n",
       "    <tr>\n",
       "      <th>Q1_87</th>\n",
       "      <td>1547.818996</td>\n",
       "      <td>2043.274997</td>\n",
       "      <td>-187.008003</td>\n",
       "    </tr>\n",
       "    <tr>\n",
       "      <th>Q2_87</th>\n",
       "      <td>2104.411995</td>\n",
       "      <td>2117.191996</td>\n",
       "      <td>-140.549004</td>\n",
       "    </tr>\n",
       "    <tr>\n",
       "      <th>Q3_87</th>\n",
       "      <td>2014.362999</td>\n",
       "      <td>2071.072396</td>\n",
       "      <td>-519.441994</td>\n",
       "    </tr>\n",
       "    <tr>\n",
       "      <th>Q4_87</th>\n",
       "      <td>1991.746998</td>\n",
       "      <td>1962.660797</td>\n",
       "      <td>-163.216000</td>\n",
       "    </tr>\n",
       "    <tr>\n",
       "      <th>Q1_88</th>\n",
       "      <td>1869.049999</td>\n",
       "      <td>1905.478197</td>\n",
       "      <td>321.231003</td>\n",
       "    </tr>\n",
       "    <tr>\n",
       "      <th>Q2_88</th>\n",
       "      <td>2313.631996</td>\n",
       "      <td>2058.640797</td>\n",
       "      <td>209.220001</td>\n",
       "    </tr>\n",
       "    <tr>\n",
       "      <th>Q3_88</th>\n",
       "      <td>2128.320000</td>\n",
       "      <td>2063.422398</td>\n",
       "      <td>113.957001</td>\n",
       "    </tr>\n",
       "    <tr>\n",
       "      <th>Q4_88</th>\n",
       "      <td>2026.828999</td>\n",
       "      <td>2065.915598</td>\n",
       "      <td>35.082001</td>\n",
       "    </tr>\n",
       "    <tr>\n",
       "      <th>Q1_89</th>\n",
       "      <td>1910.603996</td>\n",
       "      <td>2049.686998</td>\n",
       "      <td>41.553997</td>\n",
       "    </tr>\n",
       "    <tr>\n",
       "      <th>Q2_89</th>\n",
       "      <td>2331.164993</td>\n",
       "      <td>2142.109997</td>\n",
       "      <td>17.532997</td>\n",
       "    </tr>\n",
       "    <tr>\n",
       "      <th>Q3_89</th>\n",
       "      <td>2206.549995</td>\n",
       "      <td>2120.693597</td>\n",
       "      <td>78.229996</td>\n",
       "    </tr>\n",
       "    <tr>\n",
       "      <th>Q4_89</th>\n",
       "      <td>2173.967995</td>\n",
       "      <td>2129.823196</td>\n",
       "      <td>147.138996</td>\n",
       "    </tr>\n",
       "    <tr>\n",
       "      <th>Q1_90</th>\n",
       "      <td>2148.278000</td>\n",
       "      <td>2154.112996</td>\n",
       "      <td>237.674004</td>\n",
       "    </tr>\n",
       "    <tr>\n",
       "      <th>Q2_90</th>\n",
       "      <td>2739.307999</td>\n",
       "      <td>2319.853796</td>\n",
       "      <td>408.143005</td>\n",
       "    </tr>\n",
       "    <tr>\n",
       "      <th>Q3_90</th>\n",
       "      <td>2792.753998</td>\n",
       "      <td>2412.171597</td>\n",
       "      <td>586.204002</td>\n",
       "    </tr>\n",
       "    <tr>\n",
       "      <th>Q4_90</th>\n",
       "      <td>2556.009995</td>\n",
       "      <td>2482.063597</td>\n",
       "      <td>382.042000</td>\n",
       "    </tr>\n",
       "    <tr>\n",
       "      <th>Q1_91</th>\n",
       "      <td>2480.973999</td>\n",
       "      <td>2543.464798</td>\n",
       "      <td>332.695999</td>\n",
       "    </tr>\n",
       "    <tr>\n",
       "      <th>Q2_91</th>\n",
       "      <td>3039.522995</td>\n",
       "      <td>2721.713797</td>\n",
       "      <td>300.214996</td>\n",
       "    </tr>\n",
       "    <tr>\n",
       "      <th>Q3_91</th>\n",
       "      <td>3172.115997</td>\n",
       "      <td>2808.275397</td>\n",
       "      <td>379.362000</td>\n",
       "    </tr>\n",
       "    <tr>\n",
       "      <th>Q4_91</th>\n",
       "      <td>2879.000999</td>\n",
       "      <td>2825.524797</td>\n",
       "      <td>322.991005</td>\n",
       "    </tr>\n",
       "    <tr>\n",
       "      <th>Q1_92</th>\n",
       "      <td>2772.000000</td>\n",
       "      <td>2868.722798</td>\n",
       "      <td>291.026001</td>\n",
       "    </tr>\n",
       "    <tr>\n",
       "      <th>Q2_92</th>\n",
       "      <td>3550.000000</td>\n",
       "      <td>3082.527998</td>\n",
       "      <td>510.477005</td>\n",
       "    </tr>\n",
       "    <tr>\n",
       "      <th>Q3_92</th>\n",
       "      <td>3508.000000</td>\n",
       "      <td>3176.223399</td>\n",
       "      <td>335.884003</td>\n",
       "    </tr>\n",
       "    <tr>\n",
       "      <th>Q4_92</th>\n",
       "      <td>3243.859993</td>\n",
       "      <td>3190.572198</td>\n",
       "      <td>364.858994</td>\n",
       "    </tr>\n",
       "    <tr>\n",
       "      <th>Q1_93</th>\n",
       "      <td>3056.000000</td>\n",
       "      <td>3225.971999</td>\n",
       "      <td>284.000000</td>\n",
       "    </tr>\n",
       "    <tr>\n",
       "      <th>Q2_93</th>\n",
       "      <td>3899.000000</td>\n",
       "      <td>3451.371999</td>\n",
       "      <td>349.000000</td>\n",
       "    </tr>\n",
       "    <tr>\n",
       "      <th>Q3_93</th>\n",
       "      <td>3629.000000</td>\n",
       "      <td>3467.171999</td>\n",
       "      <td>121.000000</td>\n",
       "    </tr>\n",
       "    <tr>\n",
       "      <th>Q4_93</th>\n",
       "      <td>3373.000000</td>\n",
       "      <td>3440.171999</td>\n",
       "      <td>129.140007</td>\n",
       "    </tr>\n",
       "    <tr>\n",
       "      <th>Q1_94</th>\n",
       "      <td>3352.000000</td>\n",
       "      <td>3461.800000</td>\n",
       "      <td>296.000000</td>\n",
       "    </tr>\n",
       "    <tr>\n",
       "      <th>Q2_94</th>\n",
       "      <td>4342.000000</td>\n",
       "      <td>3719.000000</td>\n",
       "      <td>443.000000</td>\n",
       "    </tr>\n",
       "    <tr>\n",
       "      <th>Q3_94</th>\n",
       "      <td>4461.000000</td>\n",
       "      <td>3831.400000</td>\n",
       "      <td>832.000000</td>\n",
       "    </tr>\n",
       "    <tr>\n",
       "      <th>Q4_94</th>\n",
       "      <td>4017.000000</td>\n",
       "      <td>3909.000000</td>\n",
       "      <td>644.000000</td>\n",
       "    </tr>\n",
       "    <tr>\n",
       "      <th>Q1_95</th>\n",
       "      <td>3854.000000</td>\n",
       "      <td>4005.200000</td>\n",
       "      <td>502.000000</td>\n",
       "    </tr>\n",
       "    <tr>\n",
       "      <th>Q2_95</th>\n",
       "      <td>4936.000000</td>\n",
       "      <td>4322.000000</td>\n",
       "      <td>594.000000</td>\n",
       "    </tr>\n",
       "    <tr>\n",
       "      <th>Q3_95</th>\n",
       "      <td>4895.000000</td>\n",
       "      <td>4432.600000</td>\n",
       "      <td>434.000000</td>\n",
       "    </tr>\n",
       "    <tr>\n",
       "      <th>Q4_95</th>\n",
       "      <td>4333.000000</td>\n",
       "      <td>4407.000000</td>\n",
       "      <td>316.000000</td>\n",
       "    </tr>\n",
       "    <tr>\n",
       "      <th>Q1_96</th>\n",
       "      <td>4194.000000</td>\n",
       "      <td>4442.400000</td>\n",
       "      <td>340.000000</td>\n",
       "    </tr>\n",
       "    <tr>\n",
       "      <th>Q2_96</th>\n",
       "      <td>5253.000000</td>\n",
       "      <td>4722.200000</td>\n",
       "      <td>317.000000</td>\n",
       "    </tr>\n",
       "  </tbody>\n",
       "</table>\n",
       "</div>"
      ],
      "text/plain": [
       "               Sales  Smoothen_data  Sales_diff\n",
       "Quarter                                        \n",
       "Q1_86    1734.827000            NaN         NaN\n",
       "Q2_86    2244.960999            NaN         NaN\n",
       "Q3_86    2533.804993            NaN         NaN\n",
       "Q4_86    2154.962997            NaN         NaN\n",
       "Q1_87    1547.818996    2043.274997 -187.008003\n",
       "Q2_87    2104.411995    2117.191996 -140.549004\n",
       "Q3_87    2014.362999    2071.072396 -519.441994\n",
       "Q4_87    1991.746998    1962.660797 -163.216000\n",
       "Q1_88    1869.049999    1905.478197  321.231003\n",
       "Q2_88    2313.631996    2058.640797  209.220001\n",
       "Q3_88    2128.320000    2063.422398  113.957001\n",
       "Q4_88    2026.828999    2065.915598   35.082001\n",
       "Q1_89    1910.603996    2049.686998   41.553997\n",
       "Q2_89    2331.164993    2142.109997   17.532997\n",
       "Q3_89    2206.549995    2120.693597   78.229996\n",
       "Q4_89    2173.967995    2129.823196  147.138996\n",
       "Q1_90    2148.278000    2154.112996  237.674004\n",
       "Q2_90    2739.307999    2319.853796  408.143005\n",
       "Q3_90    2792.753998    2412.171597  586.204002\n",
       "Q4_90    2556.009995    2482.063597  382.042000\n",
       "Q1_91    2480.973999    2543.464798  332.695999\n",
       "Q2_91    3039.522995    2721.713797  300.214996\n",
       "Q3_91    3172.115997    2808.275397  379.362000\n",
       "Q4_91    2879.000999    2825.524797  322.991005\n",
       "Q1_92    2772.000000    2868.722798  291.026001\n",
       "Q2_92    3550.000000    3082.527998  510.477005\n",
       "Q3_92    3508.000000    3176.223399  335.884003\n",
       "Q4_92    3243.859993    3190.572198  364.858994\n",
       "Q1_93    3056.000000    3225.971999  284.000000\n",
       "Q2_93    3899.000000    3451.371999  349.000000\n",
       "Q3_93    3629.000000    3467.171999  121.000000\n",
       "Q4_93    3373.000000    3440.171999  129.140007\n",
       "Q1_94    3352.000000    3461.800000  296.000000\n",
       "Q2_94    4342.000000    3719.000000  443.000000\n",
       "Q3_94    4461.000000    3831.400000  832.000000\n",
       "Q4_94    4017.000000    3909.000000  644.000000\n",
       "Q1_95    3854.000000    4005.200000  502.000000\n",
       "Q2_95    4936.000000    4322.000000  594.000000\n",
       "Q3_95    4895.000000    4432.600000  434.000000\n",
       "Q4_95    4333.000000    4407.000000  316.000000\n",
       "Q1_96    4194.000000    4442.400000  340.000000\n",
       "Q2_96    5253.000000    4722.200000  317.000000"
      ]
     },
     "execution_count": 278,
     "metadata": {},
     "output_type": "execute_result"
    }
   ],
   "source": [
    "df"
   ]
  },
  {
   "cell_type": "code",
   "execution_count": null,
   "id": "45cd200b",
   "metadata": {},
   "outputs": [],
   "source": []
  },
  {
   "cell_type": "code",
   "execution_count": 279,
   "id": "bb4c8225",
   "metadata": {},
   "outputs": [],
   "source": [
    "from sklearn.metrics import mean_squared_error  #Naive error\n",
    "import numpy as np"
   ]
  },
  {
   "cell_type": "code",
   "execution_count": 280,
   "id": "ea688a9e",
   "metadata": {},
   "outputs": [],
   "source": [
    "df_test = df[4:]"
   ]
  },
  {
   "cell_type": "code",
   "execution_count": 281,
   "id": "0aec4ed6",
   "metadata": {},
   "outputs": [],
   "source": [
    "naive_error = mean_squared_error(df_test.Sales,df_test.Sales_diff)"
   ]
  },
  {
   "cell_type": "code",
   "execution_count": 282,
   "id": "c20cbbef",
   "metadata": {},
   "outputs": [
    {
     "data": {
      "text/plain": [
       "8628134.632772893"
      ]
     },
     "execution_count": 282,
     "metadata": {},
     "output_type": "execute_result"
    }
   ],
   "source": [
    "naive_error"
   ]
  },
  {
   "cell_type": "code",
   "execution_count": 283,
   "id": "405aab1c",
   "metadata": {},
   "outputs": [
    {
     "data": {
      "text/plain": [
       "2937.368657961219"
      ]
     },
     "execution_count": 283,
     "metadata": {},
     "output_type": "execute_result"
    }
   ],
   "source": [
    "np.sqrt(naive_error)  #mse value is too much"
   ]
  },
  {
   "cell_type": "markdown",
   "id": "13bcbf0e",
   "metadata": {},
   "source": [
    "# Performing dicky fuller test to check whether points are stationary."
   ]
  },
  {
   "cell_type": "code",
   "execution_count": 284,
   "id": "cb52b058",
   "metadata": {},
   "outputs": [],
   "source": [
    "from statsmodels.tsa.stattools import adfuller"
   ]
  },
  {
   "cell_type": "code",
   "execution_count": 285,
   "id": "c6d8bebf",
   "metadata": {},
   "outputs": [],
   "source": [
    "result = adfuller(df['Sales'])"
   ]
  },
  {
   "cell_type": "code",
   "execution_count": 286,
   "id": "7fcf6f08",
   "metadata": {},
   "outputs": [
    {
     "name": "stdout",
     "output_type": "stream",
     "text": [
      "p-value 0.9966611673930905\n"
     ]
    }
   ],
   "source": [
    "print('p-value' , result[1])"
   ]
  },
  {
   "cell_type": "code",
   "execution_count": 287,
   "id": "178ea92c",
   "metadata": {},
   "outputs": [],
   "source": [
    "result1 = (adfuller(df['Smoothen_data'].dropna()))"
   ]
  },
  {
   "cell_type": "code",
   "execution_count": 288,
   "id": "c5f6ffa2",
   "metadata": {},
   "outputs": [
    {
     "data": {
      "text/plain": [
       "0.9979972021834532"
      ]
     },
     "execution_count": 288,
     "metadata": {},
     "output_type": "execute_result"
    }
   ],
   "source": [
    "result1[1]"
   ]
  },
  {
   "cell_type": "code",
   "execution_count": 289,
   "id": "314f44d9",
   "metadata": {},
   "outputs": [],
   "source": [
    "result2 = (adfuller(df['Sales_diff'].dropna()))"
   ]
  },
  {
   "cell_type": "code",
   "execution_count": 290,
   "id": "8a9ae7cd",
   "metadata": {},
   "outputs": [
    {
     "data": {
      "text/plain": [
       "0.09092533196680103"
      ]
     },
     "execution_count": 290,
     "metadata": {},
     "output_type": "execute_result"
    }
   ],
   "source": [
    "result2[1]"
   ]
  },
  {
   "cell_type": "code",
   "execution_count": 291,
   "id": "0e43b6cd",
   "metadata": {},
   "outputs": [],
   "source": [
    "df['ModifiedSales'] = np.sqrt(df['Sales'])"
   ]
  },
  {
   "cell_type": "code",
   "execution_count": 292,
   "id": "ac218603",
   "metadata": {},
   "outputs": [],
   "source": [
    "df['ModifiedSales_diff']= df['ModifiedSales'].diff(periods=4)"
   ]
  },
  {
   "cell_type": "code",
   "execution_count": 293,
   "id": "cfda1674",
   "metadata": {},
   "outputs": [],
   "source": [
    "result3 = adfuller(df['ModifiedSales_diff'].dropna())"
   ]
  },
  {
   "cell_type": "code",
   "execution_count": 294,
   "id": "5d58ac7d",
   "metadata": {},
   "outputs": [
    {
     "data": {
      "text/plain": [
       "0.00010028673046813148"
      ]
     },
     "execution_count": 294,
     "metadata": {},
     "output_type": "execute_result"
    }
   ],
   "source": [
    "result3[1]"
   ]
  },
  {
   "cell_type": "code",
   "execution_count": 295,
   "id": "2a46b567",
   "metadata": {},
   "outputs": [],
   "source": [
    "from statsmodels.graphics.tsaplots import plot_acf,plot_pacf    #plots to get info about p,d,f for arima"
   ]
  },
  {
   "cell_type": "code",
   "execution_count": 296,
   "id": "05e1ecd3",
   "metadata": {},
   "outputs": [
    {
     "name": "stderr",
     "output_type": "stream",
     "text": [
      "/Users/shuhulnehru/opt/anaconda3/lib/python3.8/site-packages/statsmodels/regression/linear_model.py:1434: RuntimeWarning: invalid value encountered in sqrt\n",
      "  return rho, np.sqrt(sigmasq)\n"
     ]
    },
    {
     "data": {
      "image/png": "[encoded data removed]",
      "text/plain": [
       "<Figure size 432x288 with 1 Axes>"
      ]
     },
     "execution_count": 296,
     "metadata": {},
     "output_type": "execute_result"
    },
    {
     "data": {
      "image/png": "[encoded data removed]",
      "text/plain": [
       "<Figure size 432x288 with 1 Axes>"
      ]
     },
     "metadata": {
      "needs_background": "light"
     },
     "output_type": "display_data"
    }
   ],
   "source": [
    "plot_pacf(df['ModifiedSales'][4:])"
   ]
  },
  {
   "cell_type": "code",
   "execution_count": 297,
   "id": "815b631e",
   "metadata": {},
   "outputs": [
    {
     "data": {
      "image/png": "[encoded data removed]",
      "text/plain": [
       "<Figure size 432x288 with 1 Axes>"
      ]
     },
     "execution_count": 297,
     "metadata": {},
     "output_type": "execute_result"
    },
    {
     "data": {
      "image/png": "[encoded data removed]",
      "text/plain": [
       "<Figure size 432x288 with 1 Axes>"
      ]
     },
     "metadata": {
      "needs_background": "light"
     },
     "output_type": "display_data"
    }
   ],
   "source": [
    "plot_acf(df['ModifiedSales'][4:])"
   ]
  },
  {
   "cell_type": "code",
   "execution_count": 298,
   "id": "6c155e1e",
   "metadata": {},
   "outputs": [
    {
     "data": {
      "text/html": [
       "<div>\n",
       "<style scoped>\n",
       "    .dataframe tbody tr th:only-of-type {\n",
       "        vertical-align: middle;\n",
       "    }\n",
       "\n",
       "    .dataframe tbody tr th {\n",
       "        vertical-align: top;\n",
       "    }\n",
       "\n",
       "    .dataframe thead th {\n",
       "        text-align: right;\n",
       "    }\n",
       "</style>\n",
       "<table border=\"1\" class=\"dataframe\">\n",
       "  <thead>\n",
       "    <tr style=\"text-align: right;\">\n",
       "      <th></th>\n",
       "      <th>Sales</th>\n",
       "      <th>Smoothen_data</th>\n",
       "      <th>Sales_diff</th>\n",
       "      <th>ModifiedSales</th>\n",
       "      <th>ModifiedSales_diff</th>\n",
       "    </tr>\n",
       "    <tr>\n",
       "      <th>Quarter</th>\n",
       "      <th></th>\n",
       "      <th></th>\n",
       "      <th></th>\n",
       "      <th></th>\n",
       "      <th></th>\n",
       "    </tr>\n",
       "  </thead>\n",
       "  <tbody>\n",
       "    <tr>\n",
       "      <th>Q1_86</th>\n",
       "      <td>1734.827000</td>\n",
       "      <td>NaN</td>\n",
       "      <td>NaN</td>\n",
       "      <td>41.651254</td>\n",
       "      <td>NaN</td>\n",
       "    </tr>\n",
       "    <tr>\n",
       "      <th>Q2_86</th>\n",
       "      <td>2244.960999</td>\n",
       "      <td>NaN</td>\n",
       "      <td>NaN</td>\n",
       "      <td>47.381019</td>\n",
       "      <td>NaN</td>\n",
       "    </tr>\n",
       "    <tr>\n",
       "      <th>Q3_86</th>\n",
       "      <td>2533.804993</td>\n",
       "      <td>NaN</td>\n",
       "      <td>NaN</td>\n",
       "      <td>50.336915</td>\n",
       "      <td>NaN</td>\n",
       "    </tr>\n",
       "    <tr>\n",
       "      <th>Q4_86</th>\n",
       "      <td>2154.962997</td>\n",
       "      <td>NaN</td>\n",
       "      <td>NaN</td>\n",
       "      <td>46.421579</td>\n",
       "      <td>NaN</td>\n",
       "    </tr>\n",
       "    <tr>\n",
       "      <th>Q1_87</th>\n",
       "      <td>1547.818996</td>\n",
       "      <td>2043.274997</td>\n",
       "      <td>-187.008003</td>\n",
       "      <td>39.342331</td>\n",
       "      <td>-2.308924</td>\n",
       "    </tr>\n",
       "    <tr>\n",
       "      <th>Q2_87</th>\n",
       "      <td>2104.411995</td>\n",
       "      <td>2117.191996</td>\n",
       "      <td>-140.549004</td>\n",
       "      <td>45.873871</td>\n",
       "      <td>-1.507149</td>\n",
       "    </tr>\n",
       "    <tr>\n",
       "      <th>Q3_87</th>\n",
       "      <td>2014.362999</td>\n",
       "      <td>2071.072396</td>\n",
       "      <td>-519.441994</td>\n",
       "      <td>44.881655</td>\n",
       "      <td>-5.455259</td>\n",
       "    </tr>\n",
       "    <tr>\n",
       "      <th>Q4_87</th>\n",
       "      <td>1991.746998</td>\n",
       "      <td>1962.660797</td>\n",
       "      <td>-163.216000</td>\n",
       "      <td>44.628993</td>\n",
       "      <td>-1.792586</td>\n",
       "    </tr>\n",
       "    <tr>\n",
       "      <th>Q1_88</th>\n",
       "      <td>1869.049999</td>\n",
       "      <td>1905.478197</td>\n",
       "      <td>321.231003</td>\n",
       "      <td>43.232511</td>\n",
       "      <td>3.890180</td>\n",
       "    </tr>\n",
       "    <tr>\n",
       "      <th>Q2_88</th>\n",
       "      <td>2313.631996</td>\n",
       "      <td>2058.640797</td>\n",
       "      <td>209.220001</td>\n",
       "      <td>48.100229</td>\n",
       "      <td>2.226358</td>\n",
       "    </tr>\n",
       "    <tr>\n",
       "      <th>Q3_88</th>\n",
       "      <td>2128.320000</td>\n",
       "      <td>2063.422398</td>\n",
       "      <td>113.957001</td>\n",
       "      <td>46.133719</td>\n",
       "      <td>1.252063</td>\n",
       "    </tr>\n",
       "    <tr>\n",
       "      <th>Q4_88</th>\n",
       "      <td>2026.828999</td>\n",
       "      <td>2065.915598</td>\n",
       "      <td>35.082001</td>\n",
       "      <td>45.020318</td>\n",
       "      <td>0.391325</td>\n",
       "    </tr>\n",
       "    <tr>\n",
       "      <th>Q1_89</th>\n",
       "      <td>1910.603996</td>\n",
       "      <td>2049.686998</td>\n",
       "      <td>41.553997</td>\n",
       "      <td>43.710456</td>\n",
       "      <td>0.477945</td>\n",
       "    </tr>\n",
       "    <tr>\n",
       "      <th>Q2_89</th>\n",
       "      <td>2331.164993</td>\n",
       "      <td>2142.109997</td>\n",
       "      <td>17.532997</td>\n",
       "      <td>48.282139</td>\n",
       "      <td>0.181911</td>\n",
       "    </tr>\n",
       "    <tr>\n",
       "      <th>Q3_89</th>\n",
       "      <td>2206.549995</td>\n",
       "      <td>2120.693597</td>\n",
       "      <td>78.229996</td>\n",
       "      <td>46.973929</td>\n",
       "      <td>0.840210</td>\n",
       "    </tr>\n",
       "    <tr>\n",
       "      <th>Q4_89</th>\n",
       "      <td>2173.967995</td>\n",
       "      <td>2129.823196</td>\n",
       "      <td>147.138996</td>\n",
       "      <td>46.625830</td>\n",
       "      <td>1.605512</td>\n",
       "    </tr>\n",
       "    <tr>\n",
       "      <th>Q1_90</th>\n",
       "      <td>2148.278000</td>\n",
       "      <td>2154.112996</td>\n",
       "      <td>237.674004</td>\n",
       "      <td>46.349520</td>\n",
       "      <td>2.639064</td>\n",
       "    </tr>\n",
       "    <tr>\n",
       "      <th>Q2_90</th>\n",
       "      <td>2739.307999</td>\n",
       "      <td>2319.853796</td>\n",
       "      <td>408.143005</td>\n",
       "      <td>52.338399</td>\n",
       "      <td>4.056259</td>\n",
       "    </tr>\n",
       "    <tr>\n",
       "      <th>Q3_90</th>\n",
       "      <td>2792.753998</td>\n",
       "      <td>2412.171597</td>\n",
       "      <td>586.204002</td>\n",
       "      <td>52.846514</td>\n",
       "      <td>5.872585</td>\n",
       "    </tr>\n",
       "    <tr>\n",
       "      <th>Q4_90</th>\n",
       "      <td>2556.009995</td>\n",
       "      <td>2482.063597</td>\n",
       "      <td>382.042000</td>\n",
       "      <td>50.556997</td>\n",
       "      <td>3.931168</td>\n",
       "    </tr>\n",
       "    <tr>\n",
       "      <th>Q1_91</th>\n",
       "      <td>2480.973999</td>\n",
       "      <td>2543.464798</td>\n",
       "      <td>332.695999</td>\n",
       "      <td>49.809377</td>\n",
       "      <td>3.459857</td>\n",
       "    </tr>\n",
       "    <tr>\n",
       "      <th>Q2_91</th>\n",
       "      <td>3039.522995</td>\n",
       "      <td>2721.713797</td>\n",
       "      <td>300.214996</td>\n",
       "      <td>55.131869</td>\n",
       "      <td>2.793470</td>\n",
       "    </tr>\n",
       "    <tr>\n",
       "      <th>Q3_91</th>\n",
       "      <td>3172.115997</td>\n",
       "      <td>2808.275397</td>\n",
       "      <td>379.362000</td>\n",
       "      <td>56.321541</td>\n",
       "      <td>3.475028</td>\n",
       "    </tr>\n",
       "    <tr>\n",
       "      <th>Q4_91</th>\n",
       "      <td>2879.000999</td>\n",
       "      <td>2825.524797</td>\n",
       "      <td>322.991005</td>\n",
       "      <td>53.656323</td>\n",
       "      <td>3.099326</td>\n",
       "    </tr>\n",
       "    <tr>\n",
       "      <th>Q1_92</th>\n",
       "      <td>2772.000000</td>\n",
       "      <td>2868.722798</td>\n",
       "      <td>291.026001</td>\n",
       "      <td>52.649786</td>\n",
       "      <td>2.840410</td>\n",
       "    </tr>\n",
       "    <tr>\n",
       "      <th>Q2_92</th>\n",
       "      <td>3550.000000</td>\n",
       "      <td>3082.527998</td>\n",
       "      <td>510.477005</td>\n",
       "      <td>59.581876</td>\n",
       "      <td>4.450007</td>\n",
       "    </tr>\n",
       "    <tr>\n",
       "      <th>Q3_92</th>\n",
       "      <td>3508.000000</td>\n",
       "      <td>3176.223399</td>\n",
       "      <td>335.884003</td>\n",
       "      <td>59.228372</td>\n",
       "      <td>2.906830</td>\n",
       "    </tr>\n",
       "    <tr>\n",
       "      <th>Q4_92</th>\n",
       "      <td>3243.859993</td>\n",
       "      <td>3190.572198</td>\n",
       "      <td>364.858994</td>\n",
       "      <td>56.954894</td>\n",
       "      <td>3.298571</td>\n",
       "    </tr>\n",
       "    <tr>\n",
       "      <th>Q1_93</th>\n",
       "      <td>3056.000000</td>\n",
       "      <td>3225.971999</td>\n",
       "      <td>284.000000</td>\n",
       "      <td>55.281100</td>\n",
       "      <td>2.631314</td>\n",
       "    </tr>\n",
       "    <tr>\n",
       "      <th>Q2_93</th>\n",
       "      <td>3899.000000</td>\n",
       "      <td>3451.371999</td>\n",
       "      <td>349.000000</td>\n",
       "      <td>62.441973</td>\n",
       "      <td>2.860097</td>\n",
       "    </tr>\n",
       "    <tr>\n",
       "      <th>Q3_93</th>\n",
       "      <td>3629.000000</td>\n",
       "      <td>3467.171999</td>\n",
       "      <td>121.000000</td>\n",
       "      <td>60.241182</td>\n",
       "      <td>1.012810</td>\n",
       "    </tr>\n",
       "    <tr>\n",
       "      <th>Q4_93</th>\n",
       "      <td>3373.000000</td>\n",
       "      <td>3440.171999</td>\n",
       "      <td>129.140007</td>\n",
       "      <td>58.077534</td>\n",
       "      <td>1.122640</td>\n",
       "    </tr>\n",
       "    <tr>\n",
       "      <th>Q1_94</th>\n",
       "      <td>3352.000000</td>\n",
       "      <td>3461.800000</td>\n",
       "      <td>296.000000</td>\n",
       "      <td>57.896459</td>\n",
       "      <td>2.615359</td>\n",
       "    </tr>\n",
       "    <tr>\n",
       "      <th>Q2_94</th>\n",
       "      <td>4342.000000</td>\n",
       "      <td>3719.000000</td>\n",
       "      <td>443.000000</td>\n",
       "      <td>65.893854</td>\n",
       "      <td>3.451881</td>\n",
       "    </tr>\n",
       "    <tr>\n",
       "      <th>Q3_94</th>\n",
       "      <td>4461.000000</td>\n",
       "      <td>3831.400000</td>\n",
       "      <td>832.000000</td>\n",
       "      <td>66.790718</td>\n",
       "      <td>6.549536</td>\n",
       "    </tr>\n",
       "    <tr>\n",
       "      <th>Q4_94</th>\n",
       "      <td>4017.000000</td>\n",
       "      <td>3909.000000</td>\n",
       "      <td>644.000000</td>\n",
       "      <td>63.379808</td>\n",
       "      <td>5.302273</td>\n",
       "    </tr>\n",
       "    <tr>\n",
       "      <th>Q1_95</th>\n",
       "      <td>3854.000000</td>\n",
       "      <td>4005.200000</td>\n",
       "      <td>502.000000</td>\n",
       "      <td>62.080593</td>\n",
       "      <td>4.184133</td>\n",
       "    </tr>\n",
       "    <tr>\n",
       "      <th>Q2_95</th>\n",
       "      <td>4936.000000</td>\n",
       "      <td>4322.000000</td>\n",
       "      <td>594.000000</td>\n",
       "      <td>70.256672</td>\n",
       "      <td>4.362818</td>\n",
       "    </tr>\n",
       "    <tr>\n",
       "      <th>Q3_95</th>\n",
       "      <td>4895.000000</td>\n",
       "      <td>4432.600000</td>\n",
       "      <td>434.000000</td>\n",
       "      <td>69.964277</td>\n",
       "      <td>3.173559</td>\n",
       "    </tr>\n",
       "    <tr>\n",
       "      <th>Q4_95</th>\n",
       "      <td>4333.000000</td>\n",
       "      <td>4407.000000</td>\n",
       "      <td>316.000000</td>\n",
       "      <td>65.825527</td>\n",
       "      <td>2.445719</td>\n",
       "    </tr>\n",
       "    <tr>\n",
       "      <th>Q1_96</th>\n",
       "      <td>4194.000000</td>\n",
       "      <td>4442.400000</td>\n",
       "      <td>340.000000</td>\n",
       "      <td>64.761099</td>\n",
       "      <td>2.680507</td>\n",
       "    </tr>\n",
       "    <tr>\n",
       "      <th>Q2_96</th>\n",
       "      <td>5253.000000</td>\n",
       "      <td>4722.200000</td>\n",
       "      <td>317.000000</td>\n",
       "      <td>72.477583</td>\n",
       "      <td>2.220910</td>\n",
       "    </tr>\n",
       "  </tbody>\n",
       "</table>\n",
       "</div>"
      ],
      "text/plain": [
       "               Sales  Smoothen_data  Sales_diff  ModifiedSales  \\\n",
       "Quarter                                                          \n",
       "Q1_86    1734.827000            NaN         NaN      41.651254   \n",
       "Q2_86    2244.960999            NaN         NaN      47.381019   \n",
       "Q3_86    2533.804993            NaN         NaN      50.336915   \n",
       "Q4_86    2154.962997            NaN         NaN      46.421579   \n",
       "Q1_87    1547.818996    2043.274997 -187.008003      39.342331   \n",
       "Q2_87    2104.411995    2117.191996 -140.549004      45.873871   \n",
       "Q3_87    2014.362999    2071.072396 -519.441994      44.881655   \n",
       "Q4_87    1991.746998    1962.660797 -163.216000      44.628993   \n",
       "Q1_88    1869.049999    1905.478197  321.231003      43.232511   \n",
       "Q2_88    2313.631996    2058.640797  209.220001      48.100229   \n",
       "Q3_88    2128.320000    2063.422398  113.957001      46.133719   \n",
       "Q4_88    2026.828999    2065.915598   35.082001      45.020318   \n",
       "Q1_89    1910.603996    2049.686998   41.553997      43.710456   \n",
       "Q2_89    2331.164993    2142.109997   17.532997      48.282139   \n",
       "Q3_89    2206.549995    2120.693597   78.229996      46.973929   \n",
       "Q4_89    2173.967995    2129.823196  147.138996      46.625830   \n",
       "Q1_90    2148.278000    2154.112996  237.674004      46.349520   \n",
       "Q2_90    2739.307999    2319.853796  408.143005      52.338399   \n",
       "Q3_90    2792.753998    2412.171597  586.204002      52.846514   \n",
       "Q4_90    2556.009995    2482.063597  382.042000      50.556997   \n",
       "Q1_91    2480.973999    2543.464798  332.695999      49.809377   \n",
       "Q2_91    3039.522995    2721.713797  300.214996      55.131869   \n",
       "Q3_91    3172.115997    2808.275397  379.362000      56.321541   \n",
       "Q4_91    2879.000999    2825.524797  322.991005      53.656323   \n",
       "Q1_92    2772.000000    2868.722798  291.026001      52.649786   \n",
       "Q2_92    3550.000000    3082.527998  510.477005      59.581876   \n",
       "Q3_92    3508.000000    3176.223399  335.884003      59.228372   \n",
       "Q4_92    3243.859993    3190.572198  364.858994      56.954894   \n",
       "Q1_93    3056.000000    3225.971999  284.000000      55.281100   \n",
       "Q2_93    3899.000000    3451.371999  349.000000      62.441973   \n",
       "Q3_93    3629.000000    3467.171999  121.000000      60.241182   \n",
       "Q4_93    3373.000000    3440.171999  129.140007      58.077534   \n",
       "Q1_94    3352.000000    3461.800000  296.000000      57.896459   \n",
       "Q2_94    4342.000000    3719.000000  443.000000      65.893854   \n",
       "Q3_94    4461.000000    3831.400000  832.000000      66.790718   \n",
       "Q4_94    4017.000000    3909.000000  644.000000      63.379808   \n",
       "Q1_95    3854.000000    4005.200000  502.000000      62.080593   \n",
       "Q2_95    4936.000000    4322.000000  594.000000      70.256672   \n",
       "Q3_95    4895.000000    4432.600000  434.000000      69.964277   \n",
       "Q4_95    4333.000000    4407.000000  316.000000      65.825527   \n",
       "Q1_96    4194.000000    4442.400000  340.000000      64.761099   \n",
       "Q2_96    5253.000000    4722.200000  317.000000      72.477583   \n",
       "\n",
       "         ModifiedSales_diff  \n",
       "Quarter                      \n",
       "Q1_86                   NaN  \n",
       "Q2_86                   NaN  \n",
       "Q3_86                   NaN  \n",
       "Q4_86                   NaN  \n",
       "Q1_87             -2.308924  \n",
       "Q2_87             -1.507149  \n",
       "Q3_87             -5.455259  \n",
       "Q4_87             -1.792586  \n",
       "Q1_88              3.890180  \n",
       "Q2_88              2.226358  \n",
       "Q3_88              1.252063  \n",
       "Q4_88              0.391325  \n",
       "Q1_89              0.477945  \n",
       "Q2_89              0.181911  \n",
       "Q3_89              0.840210  \n",
       "Q4_89              1.605512  \n",
       "Q1_90              2.639064  \n",
       "Q2_90              4.056259  \n",
       "Q3_90              5.872585  \n",
       "Q4_90              3.931168  \n",
       "Q1_91              3.459857  \n",
       "Q2_91              2.793470  \n",
       "Q3_91              3.475028  \n",
       "Q4_91              3.099326  \n",
       "Q1_92              2.840410  \n",
       "Q2_92              4.450007  \n",
       "Q3_92              2.906830  \n",
       "Q4_92              3.298571  \n",
       "Q1_93              2.631314  \n",
       "Q2_93              2.860097  \n",
       "Q3_93              1.012810  \n",
       "Q4_93              1.122640  \n",
       "Q1_94              2.615359  \n",
       "Q2_94              3.451881  \n",
       "Q3_94              6.549536  \n",
       "Q4_94              5.302273  \n",
       "Q1_95              4.184133  \n",
       "Q2_95              4.362818  \n",
       "Q3_95              3.173559  \n",
       "Q4_95              2.445719  \n",
       "Q1_96              2.680507  \n",
       "Q2_96              2.220910  "
      ]
     },
     "execution_count": 298,
     "metadata": {},
     "output_type": "execute_result"
    }
   ],
   "source": [
    "df"
   ]
  },
  {
   "cell_type": "markdown",
   "id": "300b9782",
   "metadata": {},
   "source": [
    "# Splitting dataset"
   ]
  },
  {
   "cell_type": "code",
   "execution_count": 302,
   "id": "e36d4543",
   "metadata": {},
   "outputs": [],
   "source": [
    "df_train=df.iloc[0:30,3]"
   ]
  },
  {
   "cell_type": "code",
   "execution_count": 304,
   "id": "c9a40ecd",
   "metadata": {},
   "outputs": [
    {
     "data": {
      "text/plain": [
       "30"
      ]
     },
     "execution_count": 304,
     "metadata": {},
     "output_type": "execute_result"
    }
   ],
   "source": [
    "df_train.size"
   ]
  },
  {
   "cell_type": "code",
   "execution_count": 305,
   "id": "0b434324",
   "metadata": {},
   "outputs": [],
   "source": [
    "df_test = df.iloc[30:,3]"
   ]
  },
  {
   "cell_type": "code",
   "execution_count": 314,
   "id": "22205b25",
   "metadata": {},
   "outputs": [
    {
     "data": {
      "text/plain": [
       "Quarter\n",
       "Q3_93    60.241182\n",
       "Q4_93    58.077534\n",
       "Q1_94    57.896459\n",
       "Q2_94    65.893854\n",
       "Q3_94    66.790718\n",
       "Q4_94    63.379808\n",
       "Q1_95    62.080593\n",
       "Q2_95    70.256672\n",
       "Q3_95    69.964277\n",
       "Q4_95    65.825527\n",
       "Q1_96    64.761099\n",
       "Q2_96    72.477583\n",
       "Name: ModifiedSales, dtype: float64"
      ]
     },
     "execution_count": 314,
     "metadata": {},
     "output_type": "execute_result"
    }
   ],
   "source": [
    "df_test"
   ]
  },
  {
   "cell_type": "code",
   "execution_count": 306,
   "id": "3460b675",
   "metadata": {},
   "outputs": [
    {
     "data": {
      "text/plain": [
       "12"
      ]
     },
     "execution_count": 306,
     "metadata": {},
     "output_type": "execute_result"
    }
   ],
   "source": [
    "df_test.size"
   ]
  },
  {
   "cell_type": "markdown",
   "id": "9e74520f",
   "metadata": {},
   "source": [
    "# Performing Arima"
   ]
  },
  {
   "cell_type": "code",
   "execution_count": 307,
   "id": "ff319c34",
   "metadata": {},
   "outputs": [],
   "source": [
    "from statsmodels.tsa.arima_model import ARIMA"
   ]
  },
  {
   "cell_type": "code",
   "execution_count": 310,
   "id": "5169d723",
   "metadata": {},
   "outputs": [
    {
     "name": "stderr",
     "output_type": "stream",
     "text": [
      "/Users/shuhulnehru/opt/anaconda3/lib/python3.8/site-packages/statsmodels/tsa/arima_model.py:472: FutureWarning: \n",
      "statsmodels.tsa.arima_model.ARMA and statsmodels.tsa.arima_model.ARIMA have\n",
      "been deprecated in favor of statsmodels.tsa.arima.model.ARIMA (note the .\n",
      "between arima and model) and\n",
      "statsmodels.tsa.SARIMAX. These will be removed after the 0.12 release.\n",
      "\n",
      "statsmodels.tsa.arima.model.ARIMA makes use of the statespace framework and\n",
      "is both well tested and maintained.\n",
      "\n",
      "To silence this warning and continue using ARMA and ARIMA until they are\n",
      "removed, use:\n",
      "\n",
      "import warnings\n",
      "warnings.filterwarnings('ignore', 'statsmodels.tsa.arima_model.ARMA',\n",
      "                        FutureWarning)\n",
      "warnings.filterwarnings('ignore', 'statsmodels.tsa.arima_model.ARIMA',\n",
      "                        FutureWarning)\n",
      "\n",
      "  warnings.warn(ARIMA_DEPRECATION_WARN, FutureWarning)\n",
      "/Users/shuhulnehru/opt/anaconda3/lib/python3.8/site-packages/statsmodels/tsa/base/tsa_model.py:578: ValueWarning: An unsupported index was provided and will be ignored when e.g. forecasting.\n",
      "  warnings.warn('An unsupported index was provided and will be'\n",
      "/Users/shuhulnehru/opt/anaconda3/lib/python3.8/site-packages/statsmodels/tsa/base/tsa_model.py:578: ValueWarning: An unsupported index was provided and will be ignored when e.g. forecasting.\n",
      "  warnings.warn('An unsupported index was provided and will be'\n"
     ]
    }
   ],
   "source": [
    "model = ARIMA(df['ModifiedSales'],order=(2,1,3))"
   ]
  },
  {
   "cell_type": "code",
   "execution_count": 311,
   "id": "ba63378d",
   "metadata": {},
   "outputs": [
    {
     "name": "stderr",
     "output_type": "stream",
     "text": [
      "/Users/shuhulnehru/opt/anaconda3/lib/python3.8/site-packages/statsmodels/tsa/arima_model.py:472: FutureWarning: \n",
      "statsmodels.tsa.arima_model.ARMA and statsmodels.tsa.arima_model.ARIMA have\n",
      "been deprecated in favor of statsmodels.tsa.arima.model.ARIMA (note the .\n",
      "between arima and model) and\n",
      "statsmodels.tsa.SARIMAX. These will be removed after the 0.12 release.\n",
      "\n",
      "statsmodels.tsa.arima.model.ARIMA makes use of the statespace framework and\n",
      "is both well tested and maintained.\n",
      "\n",
      "To silence this warning and continue using ARMA and ARIMA until they are\n",
      "removed, use:\n",
      "\n",
      "import warnings\n",
      "warnings.filterwarnings('ignore', 'statsmodels.tsa.arima_model.ARMA',\n",
      "                        FutureWarning)\n",
      "warnings.filterwarnings('ignore', 'statsmodels.tsa.arima_model.ARIMA',\n",
      "                        FutureWarning)\n",
      "\n",
      "  warnings.warn(ARIMA_DEPRECATION_WARN, FutureWarning)\n"
     ]
    }
   ],
   "source": [
    "fitted_model = model.fit()"
   ]
  },
  {
   "cell_type": "code",
   "execution_count": 312,
   "id": "220a2111",
   "metadata": {},
   "outputs": [
    {
     "data": {
      "text/html": [
       "<table class=\"simpletable\">\n",
       "<caption>ARIMA Model Results</caption>\n",
       "<tr>\n",
       "  <th>Dep. Variable:</th>  <td>D.ModifiedSales</td> <th>  No. Observations:  </th>   <td>41</td>   \n",
       "</tr>\n",
       "<tr>\n",
       "  <th>Model:</th>          <td>ARIMA(2, 1, 3)</td>  <th>  Log Likelihood     </th> <td>-86.661</td>\n",
       "</tr>\n",
       "<tr>\n",
       "  <th>Method:</th>             <td>css-mle</td>     <th>  S.D. of innovations</th>  <td>1.811</td> \n",
       "</tr>\n",
       "<tr>\n",
       "  <th>Date:</th>          <td>Tue, 12 Oct 2021</td> <th>  AIC                </th> <td>187.322</td>\n",
       "</tr>\n",
       "<tr>\n",
       "  <th>Time:</th>              <td>13:14:16</td>     <th>  BIC                </th> <td>199.317</td>\n",
       "</tr>\n",
       "<tr>\n",
       "  <th>Sample:</th>                <td>1</td>        <th>  HQIC               </th> <td>191.690</td>\n",
       "</tr>\n",
       "<tr>\n",
       "  <th></th>                       <td> </td>        <th>                     </th>    <td> </td>   \n",
       "</tr>\n",
       "</table>\n",
       "<table class=\"simpletable\">\n",
       "<tr>\n",
       "            <td></td>               <th>coef</th>     <th>std err</th>      <th>z</th>      <th>P>|z|</th>  <th>[0.025</th>    <th>0.975]</th>  \n",
       "</tr>\n",
       "<tr>\n",
       "  <th>const</th>                 <td>    0.6084</td> <td>    0.143</td> <td>    4.250</td> <td> 0.000</td> <td>    0.328</td> <td>    0.889</td>\n",
       "</tr>\n",
       "<tr>\n",
       "  <th>ar.L1.D.ModifiedSales</th> <td>   -0.0068</td> <td>    0.024</td> <td>   -0.286</td> <td> 0.775</td> <td>   -0.053</td> <td>    0.040</td>\n",
       "</tr>\n",
       "<tr>\n",
       "  <th>ar.L2.D.ModifiedSales</th> <td>   -0.9976</td> <td>    0.005</td> <td> -210.529</td> <td> 0.000</td> <td>   -1.007</td> <td>   -0.988</td>\n",
       "</tr>\n",
       "<tr>\n",
       "  <th>ma.L1.D.ModifiedSales</th> <td>   -0.4186</td> <td>    0.126</td> <td>   -3.322</td> <td> 0.001</td> <td>   -0.666</td> <td>   -0.172</td>\n",
       "</tr>\n",
       "<tr>\n",
       "  <th>ma.L2.D.ModifiedSales</th> <td>    0.9364</td> <td>    0.168</td> <td>    5.565</td> <td> 0.000</td> <td>    0.607</td> <td>    1.266</td>\n",
       "</tr>\n",
       "<tr>\n",
       "  <th>ma.L3.D.ModifiedSales</th> <td>   -0.5370</td> <td>    0.150</td> <td>   -3.581</td> <td> 0.000</td> <td>   -0.831</td> <td>   -0.243</td>\n",
       "</tr>\n",
       "</table>\n",
       "<table class=\"simpletable\">\n",
       "<caption>Roots</caption>\n",
       "<tr>\n",
       "    <td></td>   <th>            Real</th>  <th>         Imaginary</th> <th>         Modulus</th>  <th>        Frequency</th>\n",
       "</tr>\n",
       "<tr>\n",
       "  <th>AR.1</th> <td>          -0.0034</td> <td>          -1.0012j</td> <td>           1.0012</td> <td>          -0.2505</td>\n",
       "</tr>\n",
       "<tr>\n",
       "  <th>AR.2</th> <td>          -0.0034</td> <td>          +1.0012j</td> <td>           1.0012</td> <td>           0.2505</td>\n",
       "</tr>\n",
       "<tr>\n",
       "  <th>MA.1</th> <td>          -0.0592</td> <td>          -0.9982j</td> <td>           1.0000</td> <td>          -0.2594</td>\n",
       "</tr>\n",
       "<tr>\n",
       "  <th>MA.2</th> <td>          -0.0592</td> <td>          +0.9982j</td> <td>           1.0000</td> <td>           0.2594</td>\n",
       "</tr>\n",
       "<tr>\n",
       "  <th>MA.3</th> <td>           1.8621</td> <td>          -0.0000j</td> <td>           1.8621</td> <td>          -0.0000</td>\n",
       "</tr>\n",
       "</table>"
      ],
      "text/plain": [
       "<class 'statsmodels.iolib.summary.Summary'>\n",
       "\"\"\"\n",
       "                             ARIMA Model Results                              \n",
       "==============================================================================\n",
       "Dep. Variable:        D.ModifiedSales   No. Observations:                   41\n",
       "Model:                 ARIMA(2, 1, 3)   Log Likelihood                 -86.661\n",
       "Method:                       css-mle   S.D. of innovations              1.811\n",
       "Date:                Tue, 12 Oct 2021   AIC                            187.322\n",
       "Time:                        13:14:16   BIC                            199.317\n",
       "Sample:                             1   HQIC                           191.690\n",
       "                                                                              \n",
       "=========================================================================================\n",
       "                            coef    std err          z      P>|z|      [0.025      0.975]\n",
       "-----------------------------------------------------------------------------------------\n",
       "const                     0.6084      0.143      4.250      0.000       0.328       0.889\n",
       "ar.L1.D.ModifiedSales    -0.0068      0.024     -0.286      0.775      -0.053       0.040\n",
       "ar.L2.D.ModifiedSales    -0.9976      0.005   -210.529      0.000      -1.007      -0.988\n",
       "ma.L1.D.ModifiedSales    -0.4186      0.126     -3.322      0.001      -0.666      -0.172\n",
       "ma.L2.D.ModifiedSales     0.9364      0.168      5.565      0.000       0.607       1.266\n",
       "ma.L3.D.ModifiedSales    -0.5370      0.150     -3.581      0.000      -0.831      -0.243\n",
       "                                    Roots                                    \n",
       "=============================================================================\n",
       "                  Real          Imaginary           Modulus         Frequency\n",
       "-----------------------------------------------------------------------------\n",
       "AR.1           -0.0034           -1.0012j            1.0012           -0.2505\n",
       "AR.2           -0.0034           +1.0012j            1.0012            0.2505\n",
       "MA.1           -0.0592           -0.9982j            1.0000           -0.2594\n",
       "MA.2           -0.0592           +0.9982j            1.0000            0.2594\n",
       "MA.3            1.8621           -0.0000j            1.8621           -0.0000\n",
       "-----------------------------------------------------------------------------\n",
       "\"\"\""
      ]
     },
     "execution_count": 312,
     "metadata": {},
     "output_type": "execute_result"
    }
   ],
   "source": [
    "fitted_model.summary()"
   ]
  },
  {
   "cell_type": "code",
   "execution_count": 315,
   "id": "5dfd4ad1",
   "metadata": {},
   "outputs": [],
   "source": [
    "df['forecast'] = fitted_model.predict(start='Q3_93',end='Q2_96',dynamic=True)"
   ]
  },
  {
   "cell_type": "code",
   "execution_count": 316,
   "id": "05f722fa",
   "metadata": {},
   "outputs": [
    {
     "data": {
      "text/html": [
       "<div>\n",
       "<style scoped>\n",
       "    .dataframe tbody tr th:only-of-type {\n",
       "        vertical-align: middle;\n",
       "    }\n",
       "\n",
       "    .dataframe tbody tr th {\n",
       "        vertical-align: top;\n",
       "    }\n",
       "\n",
       "    .dataframe thead th {\n",
       "        text-align: right;\n",
       "    }\n",
       "</style>\n",
       "<table border=\"1\" class=\"dataframe\">\n",
       "  <thead>\n",
       "    <tr style=\"text-align: right;\">\n",
       "      <th></th>\n",
       "      <th>Sales</th>\n",
       "      <th>Smoothen_data</th>\n",
       "      <th>Sales_diff</th>\n",
       "      <th>ModifiedSales</th>\n",
       "      <th>ModifiedSales_diff</th>\n",
       "      <th>forecast</th>\n",
       "    </tr>\n",
       "    <tr>\n",
       "      <th>Quarter</th>\n",
       "      <th></th>\n",
       "      <th></th>\n",
       "      <th></th>\n",
       "      <th></th>\n",
       "      <th></th>\n",
       "      <th></th>\n",
       "    </tr>\n",
       "  </thead>\n",
       "  <tbody>\n",
       "    <tr>\n",
       "      <th>Q2_95</th>\n",
       "      <td>4936.0</td>\n",
       "      <td>4322.0</td>\n",
       "      <td>594.0</td>\n",
       "      <td>70.256672</td>\n",
       "      <td>4.362818</td>\n",
       "      <td>4.506147</td>\n",
       "    </tr>\n",
       "    <tr>\n",
       "      <th>Q3_95</th>\n",
       "      <td>4895.0</td>\n",
       "      <td>4432.6</td>\n",
       "      <td>434.0</td>\n",
       "      <td>69.964277</td>\n",
       "      <td>3.173559</td>\n",
       "      <td>1.275325</td>\n",
       "    </tr>\n",
       "    <tr>\n",
       "      <th>Q4_95</th>\n",
       "      <td>4333.0</td>\n",
       "      <td>4407.0</td>\n",
       "      <td>316.0</td>\n",
       "      <td>65.825527</td>\n",
       "      <td>2.445719</td>\n",
       "      <td>-3.284463</td>\n",
       "    </tr>\n",
       "    <tr>\n",
       "      <th>Q1_96</th>\n",
       "      <td>4194.0</td>\n",
       "      <td>4442.4</td>\n",
       "      <td>340.0</td>\n",
       "      <td>64.761099</td>\n",
       "      <td>2.680507</td>\n",
       "      <td>-0.030514</td>\n",
       "    </tr>\n",
       "    <tr>\n",
       "      <th>Q2_96</th>\n",
       "      <td>5253.0</td>\n",
       "      <td>4722.2</td>\n",
       "      <td>317.0</td>\n",
       "      <td>72.477583</td>\n",
       "      <td>2.220910</td>\n",
       "      <td>4.496321</td>\n",
       "    </tr>\n",
       "  </tbody>\n",
       "</table>\n",
       "</div>"
      ],
      "text/plain": [
       "          Sales  Smoothen_data  Sales_diff  ModifiedSales  ModifiedSales_diff  \\\n",
       "Quarter                                                                         \n",
       "Q2_95    4936.0         4322.0       594.0      70.256672            4.362818   \n",
       "Q3_95    4895.0         4432.6       434.0      69.964277            3.173559   \n",
       "Q4_95    4333.0         4407.0       316.0      65.825527            2.445719   \n",
       "Q1_96    4194.0         4442.4       340.0      64.761099            2.680507   \n",
       "Q2_96    5253.0         4722.2       317.0      72.477583            2.220910   \n",
       "\n",
       "         forecast  \n",
       "Quarter            \n",
       "Q2_95    4.506147  \n",
       "Q3_95    1.275325  \n",
       "Q4_95   -3.284463  \n",
       "Q1_96   -0.030514  \n",
       "Q2_96    4.496321  "
      ]
     },
     "execution_count": 316,
     "metadata": {},
     "output_type": "execute_result"
    }
   ],
   "source": [
    "df.tail(5)"
   ]
  },
  {
   "cell_type": "code",
   "execution_count": 317,
   "id": "19aa2b7f",
   "metadata": {},
   "outputs": [
    {
     "data": {
      "text/plain": [
       "<AxesSubplot:xlabel='Quarter'>"
      ]
     },
     "execution_count": 317,
     "metadata": {},
     "output_type": "execute_result"
    },
    {
     "data": {
      "image/png": "[encoded data removed]",
      "text/plain": [
       "<Figure size 432x288 with 1 Axes>"
      ]
     },
     "metadata": {
      "needs_background": "light"
     },
     "output_type": "display_data"
    }
   ],
   "source": [
    "df[['ModifiedSales','forecast']].plot()"
   ]
  },
  {
   "cell_type": "code",
   "execution_count": 318,
   "id": "dfbece31",
   "metadata": {},
   "outputs": [],
   "source": [
    "import statsmodels.api as sm"
   ]
  },
  {
   "cell_type": "markdown",
   "id": "265ea25e",
   "metadata": {},
   "source": [
    "# Performing SARIMAX"
   ]
  },
  {
   "cell_type": "code",
   "execution_count": 320,
   "id": "bb2d3635",
   "metadata": {},
   "outputs": [
    {
     "name": "stderr",
     "output_type": "stream",
     "text": [
      "/Users/shuhulnehru/opt/anaconda3/lib/python3.8/site-packages/statsmodels/tsa/base/tsa_model.py:578: ValueWarning: An unsupported index was provided and will be ignored when e.g. forecasting.\n",
      "  warnings.warn('An unsupported index was provided and will be'\n",
      "/Users/shuhulnehru/opt/anaconda3/lib/python3.8/site-packages/statsmodels/tsa/base/tsa_model.py:578: ValueWarning: An unsupported index was provided and will be ignored when e.g. forecasting.\n",
      "  warnings.warn('An unsupported index was provided and will be'\n"
     ]
    }
   ],
   "source": [
    "models = sm.tsa.statespace.SARIMAX(df['ModifiedSales'],order=(2,1,3),seasonal_order=(2,1,3,4))"
   ]
  },
  {
   "cell_type": "code",
   "execution_count": 323,
   "id": "9470f985",
   "metadata": {},
   "outputs": [
    {
     "name": "stderr",
     "output_type": "stream",
     "text": [
      "/Users/shuhulnehru/opt/anaconda3/lib/python3.8/site-packages/statsmodels/base/model.py:566: ConvergenceWarning: Maximum Likelihood optimization failed to converge. Check mle_retvals\n",
      "  warnings.warn(\"Maximum Likelihood optimization failed to \"\n"
     ]
    }
   ],
   "source": [
    "result = models.fit()"
   ]
  },
  {
   "cell_type": "code",
   "execution_count": 324,
   "id": "cf09e684",
   "metadata": {},
   "outputs": [],
   "source": [
    "df['forecast']=result.predict(start='Q3_93',end='Q2_96',dynamic=True)"
   ]
  },
  {
   "cell_type": "code",
   "execution_count": 325,
   "id": "e2aea54c",
   "metadata": {},
   "outputs": [
    {
     "data": {
      "text/plain": [
       "<AxesSubplot:xlabel='Quarter'>"
      ]
     },
     "execution_count": 325,
     "metadata": {},
     "output_type": "execute_result"
    },
    {
     "data": {
      "image/png": "[encoded data removed]",
      "text/plain": [
       "<Figure size 432x288 with 1 Axes>"
      ]
     },
     "metadata": {
      "needs_background": "light"
     },
     "output_type": "display_data"
    }
   ],
   "source": [
    "df[['ModifiedSales','forecast']].plot()   #CHecking trend of model by superimposing values of forecast on test_Set."
   ]
  },
  {
   "cell_type": "code",
   "execution_count": 328,
   "id": "2d50dc49",
   "metadata": {},
   "outputs": [
    {
     "data": {
      "text/html": [
       "<table class=\"simpletable\">\n",
       "<caption>SARIMAX Results</caption>\n",
       "<tr>\n",
       "  <th>Dep. Variable:</th>           <td>ModifiedSales</td>         <th>  No. Observations:  </th>   <td>42</td>   \n",
       "</tr>\n",
       "<tr>\n",
       "  <th>Model:</th>           <td>SARIMAX(2, 1, 3)x(2, 1, 3, 4)</td> <th>  Log Likelihood     </th> <td>-66.411</td>\n",
       "</tr>\n",
       "<tr>\n",
       "  <th>Date:</th>                  <td>Tue, 12 Oct 2021</td>        <th>  AIC                </th> <td>154.823</td>\n",
       "</tr>\n",
       "<tr>\n",
       "  <th>Time:</th>                      <td>13:27:51</td>            <th>  BIC                </th> <td>172.543</td>\n",
       "</tr>\n",
       "<tr>\n",
       "  <th>Sample:</th>                        <td>0</td>               <th>  HQIC               </th> <td>161.070</td>\n",
       "</tr>\n",
       "<tr>\n",
       "  <th></th>                             <td> - 42</td>             <th>                     </th>    <td> </td>   \n",
       "</tr>\n",
       "<tr>\n",
       "  <th>Covariance Type:</th>              <td>opg</td>              <th>                     </th>    <td> </td>   \n",
       "</tr>\n",
       "</table>\n",
       "<table class=\"simpletable\">\n",
       "<tr>\n",
       "      <td></td>        <th>coef</th>     <th>std err</th>      <th>z</th>      <th>P>|z|</th>  <th>[0.025</th>    <th>0.975]</th>  \n",
       "</tr>\n",
       "<tr>\n",
       "  <th>ar.L1</th>    <td>    0.4228</td> <td>    2.617</td> <td>    0.162</td> <td> 0.872</td> <td>   -4.707</td> <td>    5.552</td>\n",
       "</tr>\n",
       "<tr>\n",
       "  <th>ar.L2</th>    <td>    0.5328</td> <td>    1.139</td> <td>    0.468</td> <td> 0.640</td> <td>   -1.701</td> <td>    2.766</td>\n",
       "</tr>\n",
       "<tr>\n",
       "  <th>ma.L1</th>    <td>   -0.4559</td> <td>    2.894</td> <td>   -0.158</td> <td> 0.875</td> <td>   -6.128</td> <td>    5.217</td>\n",
       "</tr>\n",
       "<tr>\n",
       "  <th>ma.L2</th>    <td>   -0.9138</td> <td>    1.299</td> <td>   -0.703</td> <td> 0.482</td> <td>   -3.460</td> <td>    1.632</td>\n",
       "</tr>\n",
       "<tr>\n",
       "  <th>ma.L3</th>    <td>    0.3879</td> <td>    1.247</td> <td>    0.311</td> <td> 0.756</td> <td>   -2.056</td> <td>    2.832</td>\n",
       "</tr>\n",
       "<tr>\n",
       "  <th>ar.S.L4</th>  <td>    0.2033</td> <td>    0.639</td> <td>    0.318</td> <td> 0.750</td> <td>   -1.050</td> <td>    1.456</td>\n",
       "</tr>\n",
       "<tr>\n",
       "  <th>ar.S.L8</th>  <td>   -0.5293</td> <td>    0.678</td> <td>   -0.781</td> <td> 0.435</td> <td>   -1.858</td> <td>    0.799</td>\n",
       "</tr>\n",
       "<tr>\n",
       "  <th>ma.S.L4</th>  <td>   -0.4169</td> <td>    1.603</td> <td>   -0.260</td> <td> 0.795</td> <td>   -3.559</td> <td>    2.725</td>\n",
       "</tr>\n",
       "<tr>\n",
       "  <th>ma.S.L8</th>  <td>    0.8017</td> <td>    8.343</td> <td>    0.096</td> <td> 0.923</td> <td>  -15.550</td> <td>   17.153</td>\n",
       "</tr>\n",
       "<tr>\n",
       "  <th>ma.S.L12</th> <td>   -0.6603</td> <td>    5.915</td> <td>   -0.112</td> <td> 0.911</td> <td>  -12.254</td> <td>   10.933</td>\n",
       "</tr>\n",
       "<tr>\n",
       "  <th>sigma2</th>   <td>    1.5951</td> <td>   13.798</td> <td>    0.116</td> <td> 0.908</td> <td>  -25.448</td> <td>   28.638</td>\n",
       "</tr>\n",
       "</table>\n",
       "<table class=\"simpletable\">\n",
       "<tr>\n",
       "  <th>Ljung-Box (L1) (Q):</th>     <td>0.01</td> <th>  Jarque-Bera (JB):  </th> <td>4.81</td>\n",
       "</tr>\n",
       "<tr>\n",
       "  <th>Prob(Q):</th>                <td>0.92</td> <th>  Prob(JB):          </th> <td>0.09</td>\n",
       "</tr>\n",
       "<tr>\n",
       "  <th>Heteroskedasticity (H):</th> <td>0.36</td> <th>  Skew:              </th> <td>0.55</td>\n",
       "</tr>\n",
       "<tr>\n",
       "  <th>Prob(H) (two-sided):</th>    <td>0.09</td> <th>  Kurtosis:          </th> <td>4.38</td>\n",
       "</tr>\n",
       "</table><br/><br/>Warnings:<br/>[1] Covariance matrix calculated using the outer product of gradients (complex-step)."
      ],
      "text/plain": [
       "<class 'statsmodels.iolib.summary.Summary'>\n",
       "\"\"\"\n",
       "                                     SARIMAX Results                                     \n",
       "=========================================================================================\n",
       "Dep. Variable:                     ModifiedSales   No. Observations:                   42\n",
       "Model:             SARIMAX(2, 1, 3)x(2, 1, 3, 4)   Log Likelihood                 -66.411\n",
       "Date:                           Tue, 12 Oct 2021   AIC                            154.823\n",
       "Time:                                   13:27:51   BIC                            172.543\n",
       "Sample:                                        0   HQIC                           161.070\n",
       "                                            - 42                                         \n",
       "Covariance Type:                             opg                                         \n",
       "==============================================================================\n",
       "                 coef    std err          z      P>|z|      [0.025      0.975]\n",
       "------------------------------------------------------------------------------\n",
       "ar.L1          0.4228      2.617      0.162      0.872      -4.707       5.552\n",
       "ar.L2          0.5328      1.139      0.468      0.640      -1.701       2.766\n",
       "ma.L1         -0.4559      2.894     -0.158      0.875      -6.128       5.217\n",
       "ma.L2         -0.9138      1.299     -0.703      0.482      -3.460       1.632\n",
       "ma.L3          0.3879      1.247      0.311      0.756      -2.056       2.832\n",
       "ar.S.L4        0.2033      0.639      0.318      0.750      -1.050       1.456\n",
       "ar.S.L8       -0.5293      0.678     -0.781      0.435      -1.858       0.799\n",
       "ma.S.L4       -0.4169      1.603     -0.260      0.795      -3.559       2.725\n",
       "ma.S.L8        0.8017      8.343      0.096      0.923     -15.550      17.153\n",
       "ma.S.L12      -0.6603      5.915     -0.112      0.911     -12.254      10.933\n",
       "sigma2         1.5951     13.798      0.116      0.908     -25.448      28.638\n",
       "===================================================================================\n",
       "Ljung-Box (L1) (Q):                   0.01   Jarque-Bera (JB):                 4.81\n",
       "Prob(Q):                              0.92   Prob(JB):                         0.09\n",
       "Heteroskedasticity (H):               0.36   Skew:                             0.55\n",
       "Prob(H) (two-sided):                  0.09   Kurtosis:                         4.38\n",
       "===================================================================================\n",
       "\n",
       "Warnings:\n",
       "[1] Covariance matrix calculated using the outer product of gradients (complex-step).\n",
       "\"\"\""
      ]
     },
     "execution_count": 328,
     "metadata": {},
     "output_type": "execute_result"
    }
   ],
   "source": [
    "result.summary()"
   ]
  },
  {
   "cell_type": "code",
   "execution_count": null,
   "id": "59929d23",
   "metadata": {},
   "outputs": [],
   "source": []
  }
 ],
 "metadata": {
  "kernelspec": {
   "display_name": "Python 3",
   "language": "python",
   "name": "python3"
  },
  "language_info": {
   "codemirror_mode": {
    "name": "ipython",
    "version": 3
   },
   "file_extension": ".py",
   "mimetype": "text/x-python",
   "name": "python",
   "nbconvert_exporter": "python",
   "pygments_lexer": "ipython3",
   "version": "3.8.8"
  }
 },
 "nbformat": 4,
 "nbformat_minor": 5
}
